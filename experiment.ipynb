{
 "cells": [
  {
   "cell_type": "code",
   "execution_count": 1,
   "id": "e7e06b87-1e10-449b-aac7-045b50779fdd",
   "metadata": {},
   "outputs": [],
   "source": [
    "import numpy as np\n",
    "import pandas as pd\n",
    "import seaborn as sns\n",
    "import matplotlib.pyplot as plt"
   ]
  },
  {
   "cell_type": "code",
   "execution_count": 2,
   "id": "a038443a-37dd-4ba7-bfdc-9e9445d5f4c4",
   "metadata": {},
   "outputs": [],
   "source": [
    "train_data = pd.read_csv(\n",
    "    \"e-commerce-shoppers-behaviour-understanding/train_data_v2.csv\"\n",
    ")"
   ]
  },
  {
   "cell_type": "code",
   "execution_count": 3,
   "id": "fb4a23ab-a329-4db3-adde-3bd8d9ebe1f2",
   "metadata": {},
   "outputs": [
    {
     "name": "stdout",
     "output_type": "stream",
     "text": [
      "Total categorical features: 6\n",
      "Total numerical features: 15\n"
     ]
    }
   ],
   "source": [
    "cat_features = [col for col in train_data.columns if train_data[col].dtype == object]\n",
    "print(\"Total categorical features:\", len(cat_features))\n",
    "num_features = [\n",
    "    col for col in train_data.columns if train_data[col].dtype not in (object, bool)\n",
    "]\n",
    "print(\"Total numerical features:\", len(num_features))"
   ]
  },
  {
   "cell_type": "code",
   "execution_count": 4,
   "id": "83499aa7-90bd-4602-b547-18cc6fc10676",
   "metadata": {},
   "outputs": [],
   "source": [
    "feature = train_data.iloc[:, :-1]\n",
    "label = train_data.iloc[:, -1]"
   ]
  },
  {
   "cell_type": "code",
   "execution_count": 5,
   "id": "3f3958ed-cccb-44dc-b306-721ab531a9a4",
   "metadata": {},
   "outputs": [
    {
     "data": {
      "text/plain": [
       "['HomePage',\n",
       " 'HomePage_Duration',\n",
       " 'LandingPage_Duration',\n",
       " 'ProductDescriptionPage',\n",
       " 'ProductDescriptionPage_Duration',\n",
       " 'GoogleMetric:Bounce Rates',\n",
       " 'GoogleMetric:Page Values',\n",
       " 'SeasonalPurchase',\n",
       " 'OS',\n",
       " 'SearchEngine',\n",
       " 'Zone',\n",
       " 'Type of Traffic',\n",
       " 'WeekendPurchase']"
      ]
     },
     "execution_count": 5,
     "metadata": {},
     "output_type": "execute_result"
    }
   ],
   "source": [
    "num_features = [_ for _ in num_features if _ not in ('GoogleMetric:Exit Rates', 'ProductDesciptionPage', 'LandingPage')]\n",
    "num_features"
   ]
  },
  {
   "cell_type": "code",
   "execution_count": 7,
   "id": "8e6a9303-34ef-4167-815d-cb55278d6579",
   "metadata": {},
   "outputs": [],
   "source": [
    "from sklearn.compose import ColumnTransformer\n",
    "from sklearn.experimental import enable_iterative_imputer\n",
    "from sklearn.impute import IterativeImputer\n",
    "from sklearn.pipeline import Pipeline\n",
    "from sklearn.preprocessing import LabelEncoder, OneHotEncoder, StandardScaler"
   ]
  },
  {
   "cell_type": "code",
   "execution_count": 8,
   "id": "674ff99b-ad0c-4748-aa46-62be535724b9",
   "metadata": {},
   "outputs": [],
   "source": [
    "num_pipeline = Pipeline([(\"imputer\", IterativeImputer()), (\"scaler\", StandardScaler())])\n",
    "\n",
    "cat_pipeline = Pipeline(\n",
    "    [\n",
    "        (\"encoder\", OneHotEncoder()),\n",
    "    ]\n",
    ")"
   ]
  },
  {
   "cell_type": "code",
   "execution_count": 9,
   "id": "ac33102e-264d-4a57-bbd9-d875d5672bdf",
   "metadata": {},
   "outputs": [],
   "source": [
    "preprocessing_pipe = ColumnTransformer(\n",
    "    [(\"num\", num_pipeline, num_features), (\"cat\", cat_pipeline, cat_features)],\n",
    ")"
   ]
  },
  {
   "cell_type": "code",
   "execution_count": 10,
   "id": "55934428-604a-4493-8bdf-e04f36002f1b",
   "metadata": {},
   "outputs": [],
   "source": [
    "l_enc = LabelEncoder()\n",
    "label = l_enc.fit_transform(label)"
   ]
  },
  {
   "cell_type": "code",
   "execution_count": null,
   "id": "b1138f5a-de8b-4ca0-a7be-796eeb0495fd",
   "metadata": {},
   "outputs": [],
   "source": [
    "from sklearn.model_selection import train_test_split\n",
    "\n",
    "X_train, X_val, y_train, y_val = train_test_split(feature, label, test_size=0.2)"
   ]
  },
  {
   "cell_type": "code",
   "execution_count": 27,
   "id": "ea966ca3-befa-4ef5-b666-d347a0991fe4",
   "metadata": {},
   "outputs": [],
   "source": [
    "from sklearn.ensemble import (\n",
    "    AdaBoostClassifier,\n",
    "    GradientBoostingClassifier,\n",
    "    RandomForestClassifier,\n",
    "    StackingClassifier,\n",
    ")\n",
    "from sklearn.linear_model import LogisticRegression\n",
    "from sklearn.naive_bayes import BernoulliNB\n",
    "from sklearn.neighbors import NearestCentroid\n",
    "from sklearn.svm import SVC\n",
    "from sklearn.tree import DecisionTreeClassifier\n",
    "from sklearn.model_selection import StratifiedKFold\n",
    "\n",
    "from imblearn.pipeline import Pipeline as ImbPipeline\n",
    "from imblearn.combine import SMOTETomek\n",
    "\n",
    "from sklearn.metrics import classification_report, ConfusionMatrixDisplay"
   ]
  },
  {
   "cell_type": "code",
   "execution_count": 13,
   "id": "7f314c4a-4b1a-4011-9a0b-77d48bf399e8",
   "metadata": {},
   "outputs": [],
   "source": [
    "X_train_pre = preprocessing_pipe.fit_transform(X_train)"
   ]
  },
  {
   "cell_type": "markdown",
   "id": "7b0662be-3f3b-4e03-b26a-91762f84f748",
   "metadata": {
    "tags": []
   },
   "source": [
    "# Classifier 1 using imblearn combine method\n",
    "### Captures 1's better"
   ]
  },
  {
   "cell_type": "code",
   "execution_count": 15,
   "id": "32ed4e9f-ac3e-4903-b20e-5d1b2786c000",
   "metadata": {},
   "outputs": [],
   "source": [
    "over_under = SMOTETomek()\n",
    "X_train_comb, y_train_comb = over_under.fit_resample(X_train_pre, y_train)"
   ]
  },
  {
   "cell_type": "code",
   "execution_count": 35,
   "id": "b0c914b4-1d54-429e-a3c5-0f4cafdb79de",
   "metadata": {},
   "outputs": [],
   "source": [
    "estimators = [\n",
    "    (\"rf\", RandomForestClassifier(n_estimators=500, max_features=\"log2\", random_state=42)),\n",
    "    (\n",
    "        \"gb\",\n",
    "        GradientBoostingClassifier(\n",
    "            warm_start=True,\n",
    "            tol=0.0001,\n",
    "            n_iter_no_change=5,\n",
    "            n_estimators=200,\n",
    "            min_samples_split=4,\n",
    "            min_samples_leaf=1,\n",
    "            max_features=None,\n",
    "            max_depth=3,\n",
    "            loss=\"log_loss\",\n",
    "            learning_rate=0.015,\n",
    "            criterion=\"friedman_mse\",\n",
    "        ),\n",
    "    ),\n",
    "    (\n",
    "        \"logit\",\n",
    "        LogisticRegression(\n",
    "            solver=\"saga\", C=0.1, penalty=\"l2\", multi_class=\"multinomial\", max_iter=2000\n",
    "        ),\n",
    "    ),\n",
    "    (\n",
    "        \"svc\",\n",
    "        SVC(C=10, degree=2, gamma=0.01, kernel=\"rbf\", probability=True),\n",
    "    ),\n",
    "    (\"nb\", BernoulliNB()),\n",
    "    (\"nc\", NearestCentroid())\n",
    "]"
   ]
  },
  {
   "cell_type": "code",
   "execution_count": 36,
   "id": "978a414c-8b47-4c0b-8226-ce640ddbbbac",
   "metadata": {},
   "outputs": [],
   "source": [
    "clf1 = StackingClassifier(\n",
    "            estimators=estimators,\n",
    "            final_estimator=AdaBoostClassifier(\n",
    "                estimator=DecisionTreeClassifier(max_depth=2),\n",
    "                learning_rate=0.05,\n",
    "            ),\n",
    "            passthrough=True,\n",
    "            stack_method=\"auto\",\n",
    "            cv=StratifiedKFold(n_splits=5, shuffle=True),\n",
    "            n_jobs=-1,\n",
    "        )"
   ]
  },
  {
   "cell_type": "code",
   "execution_count": 37,
   "id": "798a060d-e2fd-4c97-83e3-c17b037d5d53",
   "metadata": {},
   "outputs": [
    {
     "data": {
      "text/html": [
       "<style>#sk-container-id-2 {color: black;background-color: white;}#sk-container-id-2 pre{padding: 0;}#sk-container-id-2 div.sk-toggleable {background-color: white;}#sk-container-id-2 label.sk-toggleable__label {cursor: pointer;display: block;width: 100%;margin-bottom: 0;padding: 0.3em;box-sizing: border-box;text-align: center;}#sk-container-id-2 label.sk-toggleable__label-arrow:before {content: \"▸\";float: left;margin-right: 0.25em;color: #696969;}#sk-container-id-2 label.sk-toggleable__label-arrow:hover:before {color: black;}#sk-container-id-2 div.sk-estimator:hover label.sk-toggleable__label-arrow:before {color: black;}#sk-container-id-2 div.sk-toggleable__content {max-height: 0;max-width: 0;overflow: hidden;text-align: left;background-color: #f0f8ff;}#sk-container-id-2 div.sk-toggleable__content pre {margin: 0.2em;color: black;border-radius: 0.25em;background-color: #f0f8ff;}#sk-container-id-2 input.sk-toggleable__control:checked~div.sk-toggleable__content {max-height: 200px;max-width: 100%;overflow: auto;}#sk-container-id-2 input.sk-toggleable__control:checked~label.sk-toggleable__label-arrow:before {content: \"▾\";}#sk-container-id-2 div.sk-estimator input.sk-toggleable__control:checked~label.sk-toggleable__label {background-color: #d4ebff;}#sk-container-id-2 div.sk-label input.sk-toggleable__control:checked~label.sk-toggleable__label {background-color: #d4ebff;}#sk-container-id-2 input.sk-hidden--visually {border: 0;clip: rect(1px 1px 1px 1px);clip: rect(1px, 1px, 1px, 1px);height: 1px;margin: -1px;overflow: hidden;padding: 0;position: absolute;width: 1px;}#sk-container-id-2 div.sk-estimator {font-family: monospace;background-color: #f0f8ff;border: 1px dotted black;border-radius: 0.25em;box-sizing: border-box;margin-bottom: 0.5em;}#sk-container-id-2 div.sk-estimator:hover {background-color: #d4ebff;}#sk-container-id-2 div.sk-parallel-item::after {content: \"\";width: 100%;border-bottom: 1px solid gray;flex-grow: 1;}#sk-container-id-2 div.sk-label:hover label.sk-toggleable__label {background-color: #d4ebff;}#sk-container-id-2 div.sk-serial::before {content: \"\";position: absolute;border-left: 1px solid gray;box-sizing: border-box;top: 0;bottom: 0;left: 50%;z-index: 0;}#sk-container-id-2 div.sk-serial {display: flex;flex-direction: column;align-items: center;background-color: white;padding-right: 0.2em;padding-left: 0.2em;position: relative;}#sk-container-id-2 div.sk-item {position: relative;z-index: 1;}#sk-container-id-2 div.sk-parallel {display: flex;align-items: stretch;justify-content: center;background-color: white;position: relative;}#sk-container-id-2 div.sk-item::before, #sk-container-id-2 div.sk-parallel-item::before {content: \"\";position: absolute;border-left: 1px solid gray;box-sizing: border-box;top: 0;bottom: 0;left: 50%;z-index: -1;}#sk-container-id-2 div.sk-parallel-item {display: flex;flex-direction: column;z-index: 1;position: relative;background-color: white;}#sk-container-id-2 div.sk-parallel-item:first-child::after {align-self: flex-end;width: 50%;}#sk-container-id-2 div.sk-parallel-item:last-child::after {align-self: flex-start;width: 50%;}#sk-container-id-2 div.sk-parallel-item:only-child::after {width: 0;}#sk-container-id-2 div.sk-dashed-wrapped {border: 1px dashed gray;margin: 0 0.4em 0.5em 0.4em;box-sizing: border-box;padding-bottom: 0.4em;background-color: white;}#sk-container-id-2 div.sk-label label {font-family: monospace;font-weight: bold;display: inline-block;line-height: 1.2em;}#sk-container-id-2 div.sk-label-container {text-align: center;}#sk-container-id-2 div.sk-container {/* jupyter's `normalize.less` sets `[hidden] { display: none; }` but bootstrap.min.css set `[hidden] { display: none !important; }` so we also need the `!important` here to be able to override the default hidden behavior on the sphinx rendered scikit-learn.org. See: https://github.com/scikit-learn/scikit-learn/issues/21755 */display: inline-block !important;position: relative;}#sk-container-id-2 div.sk-text-repr-fallback {display: none;}</style><div id=\"sk-container-id-2\" class=\"sk-top-container\"><div class=\"sk-text-repr-fallback\"><pre>StackingClassifier(cv=StratifiedKFold(n_splits=5,\n",
       "        random_state=RandomState(MT19937) at 0x2AA78112340, shuffle=True),\n",
       "                   estimators=[(&#x27;rf&#x27;,\n",
       "                                RandomForestClassifier(max_features=&#x27;log2&#x27;,\n",
       "                                                       n_estimators=500,\n",
       "                                                       random_state=42)),\n",
       "                               (&#x27;gb&#x27;,\n",
       "                                GradientBoostingClassifier(learning_rate=0.015,\n",
       "                                                           min_samples_split=4,\n",
       "                                                           n_estimators=200,\n",
       "                                                           n_iter_no_change=5,\n",
       "                                                           warm_start=True)),\n",
       "                               (&#x27;logit&#x27;,\n",
       "                                LogisticRegression(C=0.1, max_iter=2000,\n",
       "                                                   multi_class=&#x27;multinomial&#x27;,\n",
       "                                                   solver=&#x27;saga&#x27;)),\n",
       "                               (&#x27;svc&#x27;,\n",
       "                                SVC(C=10, degree=2, gamma=0.01,\n",
       "                                    probability=True)),\n",
       "                               (&#x27;nb&#x27;, BernoulliNB()),\n",
       "                               (&#x27;nc&#x27;, NearestCentroid())],\n",
       "                   final_estimator=AdaBoostClassifier(estimator=DecisionTreeClassifier(max_depth=2),\n",
       "                                                      learning_rate=0.05),\n",
       "                   n_jobs=-1, passthrough=True)</pre><b>In a Jupyter environment, please rerun this cell to show the HTML representation or trust the notebook. <br />On GitHub, the HTML representation is unable to render, please try loading this page with nbviewer.org.</b></div><div class=\"sk-container\" hidden><div class=\"sk-item sk-dashed-wrapped\"><div class=\"sk-label-container\"><div class=\"sk-label sk-toggleable\"><input class=\"sk-toggleable__control sk-hidden--visually\" id=\"sk-estimator-id-9\" type=\"checkbox\" ><label for=\"sk-estimator-id-9\" class=\"sk-toggleable__label sk-toggleable__label-arrow\">StackingClassifier</label><div class=\"sk-toggleable__content\"><pre>StackingClassifier(cv=StratifiedKFold(n_splits=5,\n",
       "        random_state=RandomState(MT19937) at 0x2AA78112340, shuffle=True),\n",
       "                   estimators=[(&#x27;rf&#x27;,\n",
       "                                RandomForestClassifier(max_features=&#x27;log2&#x27;,\n",
       "                                                       n_estimators=500,\n",
       "                                                       random_state=42)),\n",
       "                               (&#x27;gb&#x27;,\n",
       "                                GradientBoostingClassifier(learning_rate=0.015,\n",
       "                                                           min_samples_split=4,\n",
       "                                                           n_estimators=200,\n",
       "                                                           n_iter_no_change=5,\n",
       "                                                           warm_start=True)),\n",
       "                               (&#x27;logit&#x27;,\n",
       "                                LogisticRegression(C=0.1, max_iter=2000,\n",
       "                                                   multi_class=&#x27;multinomial&#x27;,\n",
       "                                                   solver=&#x27;saga&#x27;)),\n",
       "                               (&#x27;svc&#x27;,\n",
       "                                SVC(C=10, degree=2, gamma=0.01,\n",
       "                                    probability=True)),\n",
       "                               (&#x27;nb&#x27;, BernoulliNB()),\n",
       "                               (&#x27;nc&#x27;, NearestCentroid())],\n",
       "                   final_estimator=AdaBoostClassifier(estimator=DecisionTreeClassifier(max_depth=2),\n",
       "                                                      learning_rate=0.05),\n",
       "                   n_jobs=-1, passthrough=True)</pre></div></div></div><div class=\"sk-serial\"><div class=\"sk-item\"><div class=\"sk-parallel\"><div class=\"sk-parallel-item\"><div class=\"sk-item\"><div class=\"sk-label-container\"><div class=\"sk-label sk-toggleable\"><label>rf</label></div></div><div class=\"sk-serial\"><div class=\"sk-item\"><div class=\"sk-estimator sk-toggleable\"><input class=\"sk-toggleable__control sk-hidden--visually\" id=\"sk-estimator-id-10\" type=\"checkbox\" ><label for=\"sk-estimator-id-10\" class=\"sk-toggleable__label sk-toggleable__label-arrow\">RandomForestClassifier</label><div class=\"sk-toggleable__content\"><pre>RandomForestClassifier(max_features=&#x27;log2&#x27;, n_estimators=500, random_state=42)</pre></div></div></div></div></div></div><div class=\"sk-parallel-item\"><div class=\"sk-item\"><div class=\"sk-label-container\"><div class=\"sk-label sk-toggleable\"><label>gb</label></div></div><div class=\"sk-serial\"><div class=\"sk-item\"><div class=\"sk-estimator sk-toggleable\"><input class=\"sk-toggleable__control sk-hidden--visually\" id=\"sk-estimator-id-11\" type=\"checkbox\" ><label for=\"sk-estimator-id-11\" class=\"sk-toggleable__label sk-toggleable__label-arrow\">GradientBoostingClassifier</label><div class=\"sk-toggleable__content\"><pre>GradientBoostingClassifier(learning_rate=0.015, min_samples_split=4,\n",
       "                           n_estimators=200, n_iter_no_change=5,\n",
       "                           warm_start=True)</pre></div></div></div></div></div></div><div class=\"sk-parallel-item\"><div class=\"sk-item\"><div class=\"sk-label-container\"><div class=\"sk-label sk-toggleable\"><label>logit</label></div></div><div class=\"sk-serial\"><div class=\"sk-item\"><div class=\"sk-estimator sk-toggleable\"><input class=\"sk-toggleable__control sk-hidden--visually\" id=\"sk-estimator-id-12\" type=\"checkbox\" ><label for=\"sk-estimator-id-12\" class=\"sk-toggleable__label sk-toggleable__label-arrow\">LogisticRegression</label><div class=\"sk-toggleable__content\"><pre>LogisticRegression(C=0.1, max_iter=2000, multi_class=&#x27;multinomial&#x27;,\n",
       "                   solver=&#x27;saga&#x27;)</pre></div></div></div></div></div></div><div class=\"sk-parallel-item\"><div class=\"sk-item\"><div class=\"sk-label-container\"><div class=\"sk-label sk-toggleable\"><label>svc</label></div></div><div class=\"sk-serial\"><div class=\"sk-item\"><div class=\"sk-estimator sk-toggleable\"><input class=\"sk-toggleable__control sk-hidden--visually\" id=\"sk-estimator-id-13\" type=\"checkbox\" ><label for=\"sk-estimator-id-13\" class=\"sk-toggleable__label sk-toggleable__label-arrow\">SVC</label><div class=\"sk-toggleable__content\"><pre>SVC(C=10, degree=2, gamma=0.01, probability=True)</pre></div></div></div></div></div></div><div class=\"sk-parallel-item\"><div class=\"sk-item\"><div class=\"sk-label-container\"><div class=\"sk-label sk-toggleable\"><label>nb</label></div></div><div class=\"sk-serial\"><div class=\"sk-item\"><div class=\"sk-estimator sk-toggleable\"><input class=\"sk-toggleable__control sk-hidden--visually\" id=\"sk-estimator-id-14\" type=\"checkbox\" ><label for=\"sk-estimator-id-14\" class=\"sk-toggleable__label sk-toggleable__label-arrow\">BernoulliNB</label><div class=\"sk-toggleable__content\"><pre>BernoulliNB()</pre></div></div></div></div></div></div><div class=\"sk-parallel-item\"><div class=\"sk-item\"><div class=\"sk-label-container\"><div class=\"sk-label sk-toggleable\"><label>nc</label></div></div><div class=\"sk-serial\"><div class=\"sk-item\"><div class=\"sk-estimator sk-toggleable\"><input class=\"sk-toggleable__control sk-hidden--visually\" id=\"sk-estimator-id-15\" type=\"checkbox\" ><label for=\"sk-estimator-id-15\" class=\"sk-toggleable__label sk-toggleable__label-arrow\">NearestCentroid</label><div class=\"sk-toggleable__content\"><pre>NearestCentroid()</pre></div></div></div></div></div></div></div></div><div class=\"sk-item\"><div class=\"sk-parallel\"><div class=\"sk-parallel-item\"><div class=\"sk-item\"><div class=\"sk-label-container\"><div class=\"sk-label sk-toggleable\"><label>final_estimator</label></div></div><div class=\"sk-serial\"><div class=\"sk-item sk-dashed-wrapped\"><div class=\"sk-parallel\"><div class=\"sk-parallel-item\"><div class=\"sk-item\"><div class=\"sk-label-container\"><div class=\"sk-label sk-toggleable\"><input class=\"sk-toggleable__control sk-hidden--visually\" id=\"sk-estimator-id-16\" type=\"checkbox\" ><label for=\"sk-estimator-id-16\" class=\"sk-toggleable__label sk-toggleable__label-arrow\">estimator: DecisionTreeClassifier</label><div class=\"sk-toggleable__content\"><pre>DecisionTreeClassifier(max_depth=2)</pre></div></div></div><div class=\"sk-serial\"><div class=\"sk-item\"><div class=\"sk-estimator sk-toggleable\"><input class=\"sk-toggleable__control sk-hidden--visually\" id=\"sk-estimator-id-17\" type=\"checkbox\" ><label for=\"sk-estimator-id-17\" class=\"sk-toggleable__label sk-toggleable__label-arrow\">DecisionTreeClassifier</label><div class=\"sk-toggleable__content\"><pre>DecisionTreeClassifier(max_depth=2)</pre></div></div></div></div></div></div></div></div></div></div></div></div></div></div></div></div></div>"
      ],
      "text/plain": [
       "StackingClassifier(cv=StratifiedKFold(n_splits=5,\n",
       "        random_state=RandomState(MT19937) at 0x2AA78112340, shuffle=True),\n",
       "                   estimators=[('rf',\n",
       "                                RandomForestClassifier(max_features='log2',\n",
       "                                                       n_estimators=500,\n",
       "                                                       random_state=42)),\n",
       "                               ('gb',\n",
       "                                GradientBoostingClassifier(learning_rate=0.015,\n",
       "                                                           min_samples_split=4,\n",
       "                                                           n_estimators=200,\n",
       "                                                           n_iter_no_change=5,\n",
       "                                                           warm_start=True)),\n",
       "                               ('logit',\n",
       "                                LogisticRegression(C=0.1, max_iter=2000,\n",
       "                                                   multi_class='multinomial',\n",
       "                                                   solver='saga')),\n",
       "                               ('svc',\n",
       "                                SVC(C=10, degree=2, gamma=0.01,\n",
       "                                    probability=True)),\n",
       "                               ('nb', BernoulliNB()),\n",
       "                               ('nc', NearestCentroid())],\n",
       "                   final_estimator=AdaBoostClassifier(estimator=DecisionTreeClassifier(max_depth=2),\n",
       "                                                      learning_rate=0.05),\n",
       "                   n_jobs=-1, passthrough=True)"
      ]
     },
     "execution_count": 37,
     "metadata": {},
     "output_type": "execute_result"
    }
   ],
   "source": [
    "clf1.fit(X_train_comb, y_train_comb)"
   ]
  },
  {
   "cell_type": "code",
   "execution_count": 38,
   "id": "bb5c57fc-3d56-4322-b704-b7a230ea0593",
   "metadata": {},
   "outputs": [],
   "source": [
    "X_val_pre = preprocessing_pipe.fit_transform(X_val)"
   ]
  },
  {
   "cell_type": "code",
   "execution_count": null,
   "id": "e3db2bf3-dda7-4c45-8d7b-a02bbe8ffb2c",
   "metadata": {},
   "outputs": [],
   "source": [
    "y_val_hat_predict_1 = clf1.predict(X_val_pre)"
   ]
  },
  {
   "cell_type": "code",
   "execution_count": 39,
   "id": "76be6fa7-9fdb-4b8c-bfea-f246b484b124",
   "metadata": {},
   "outputs": [
    {
     "data": {
      "text/plain": [
       "0.39769256871394637"
      ]
     },
     "execution_count": 39,
     "metadata": {},
     "output_type": "execute_result"
    }
   ],
   "source": [
    "clf1.score(X_val_pre, y_val)"
   ]
  },
  {
   "cell_type": "code",
   "execution_count": 40,
   "id": "882269bb-71e8-4890-b358-10f7ca32d05f",
   "metadata": {},
   "outputs": [
    {
     "name": "stdout",
     "output_type": "stream",
     "text": [
      "              precision    recall  f1-score   support\n",
      "\n",
      "           0       0.00      0.00      0.00      1775\n",
      "           1       0.40      1.00      0.57      1172\n",
      "\n",
      "    accuracy                           0.40      2947\n",
      "   macro avg       0.20      0.50      0.28      2947\n",
      "weighted avg       0.16      0.40      0.23      2947\n",
      "\n"
     ]
    }
   ],
   "source": [
    "print(classification_report(y_val, y_val_hat_predict_1, zero_division=0))"
   ]
  },
  {
   "cell_type": "code",
   "execution_count": 41,
   "id": "c974ba00-f2b3-4f48-87e5-ce5f398b663c",
   "metadata": {},
   "outputs": [
    {
     "data": {
      "image/png": "[encoded data removed]",
      "text/plain": [
       "<Figure size 640x480 with 2 Axes>"
      ]
     },
     "metadata": {},
     "output_type": "display_data"
    }
   ],
   "source": [
    "fig = ConfusionMatrixDisplay.from_predictions(y_val, y_val_hat_predict_1)\n",
    "plt.show()"
   ]
  },
  {
   "cell_type": "markdown",
   "id": "78032e98-6855-4c3f-bcef-634a039ce50f",
   "metadata": {},
   "source": [
    "# Classifier 2 without using Imblearn\n",
    "### Captures 0's better"
   ]
  },
  {
   "cell_type": "code",
   "execution_count": 68,
   "id": "a3bd9cc8-9f86-4e87-bc86-b0df60fdbeb9",
   "metadata": {},
   "outputs": [],
   "source": [
    "estimators = [\n",
    "    (\"rf\", RandomForestClassifier(n_estimators=500, max_features=\"log2\", random_state=42)),\n",
    "    (\n",
    "        \"gb\",\n",
    "        GradientBoostingClassifier(\n",
    "            warm_start=True,\n",
    "            tol=0.0001,\n",
    "            n_iter_no_change=5,\n",
    "            n_estimators=200,\n",
    "            min_samples_split=4,\n",
    "            min_samples_leaf=1,\n",
    "            max_features=None,\n",
    "            max_depth=3,\n",
    "            loss=\"log_loss\",\n",
    "            learning_rate=0.015,\n",
    "            criterion=\"friedman_mse\",\n",
    "        ),\n",
    "    ),\n",
    "    (\n",
    "        \"logit\",\n",
    "        LogisticRegression(\n",
    "            solver=\"saga\", C=0.1, penalty=\"l2\", multi_class=\"multinomial\", max_iter=2000\n",
    "        ),\n",
    "    ),\n",
    "    # (\n",
    "    #     \"svc\",\n",
    "    #     SVC(C=10, degree=2, gamma=0.01, kernel=\"rbf\", probability=True),\n",
    "    # ),\n",
    "    (\"nb\", BernoulliNB()),\n",
    "    (\"nc\", NearestCentroid())\n",
    "]"
   ]
  },
  {
   "cell_type": "code",
   "execution_count": 69,
   "id": "a3481baf-2e86-466b-8e71-b05389cff8b4",
   "metadata": {},
   "outputs": [],
   "source": [
    "clf2 = Pipeline(\n",
    "    [\n",
    "        (\"preprocessing\", preprocessing_pipe),\n",
    "        (\n",
    "            \"stacking\",\n",
    "            StackingClassifier(\n",
    "                estimators=estimators,\n",
    "                final_estimator=AdaBoostClassifier(\n",
    "                    estimator=DecisionTreeClassifier(max_depth=2),\n",
    "                    learning_rate=0.05,\n",
    "                ),\n",
    "                passthrough=True,\n",
    "                stack_method=\"auto\",\n",
    "                cv=StratifiedKFold(n_splits=5, shuffle=True),\n",
    "                n_jobs=-1,\n",
    "            ),\n",
    "        ),\n",
    "    ]\n",
    ")"
   ]
  },
  {
   "cell_type": "code",
   "execution_count": 70,
   "id": "8aaaaaf4-38d7-4660-86b3-b7465b14eadc",
   "metadata": {},
   "outputs": [
    {
     "data": {
      "text/html": [
       "<style>#sk-container-id-8 {color: black;background-color: white;}#sk-container-id-8 pre{padding: 0;}#sk-container-id-8 div.sk-toggleable {background-color: white;}#sk-container-id-8 label.sk-toggleable__label {cursor: pointer;display: block;width: 100%;margin-bottom: 0;padding: 0.3em;box-sizing: border-box;text-align: center;}#sk-container-id-8 label.sk-toggleable__label-arrow:before {content: \"▸\";float: left;margin-right: 0.25em;color: #696969;}#sk-container-id-8 label.sk-toggleable__label-arrow:hover:before {color: black;}#sk-container-id-8 div.sk-estimator:hover label.sk-toggleable__label-arrow:before {color: black;}#sk-container-id-8 div.sk-toggleable__content {max-height: 0;max-width: 0;overflow: hidden;text-align: left;background-color: #f0f8ff;}#sk-container-id-8 div.sk-toggleable__content pre {margin: 0.2em;color: black;border-radius: 0.25em;background-color: #f0f8ff;}#sk-container-id-8 input.sk-toggleable__control:checked~div.sk-toggleable__content {max-height: 200px;max-width: 100%;overflow: auto;}#sk-container-id-8 input.sk-toggleable__control:checked~label.sk-toggleable__label-arrow:before {content: \"▾\";}#sk-container-id-8 div.sk-estimator input.sk-toggleable__control:checked~label.sk-toggleable__label {background-color: #d4ebff;}#sk-container-id-8 div.sk-label input.sk-toggleable__control:checked~label.sk-toggleable__label {background-color: #d4ebff;}#sk-container-id-8 input.sk-hidden--visually {border: 0;clip: rect(1px 1px 1px 1px);clip: rect(1px, 1px, 1px, 1px);height: 1px;margin: -1px;overflow: hidden;padding: 0;position: absolute;width: 1px;}#sk-container-id-8 div.sk-estimator {font-family: monospace;background-color: #f0f8ff;border: 1px dotted black;border-radius: 0.25em;box-sizing: border-box;margin-bottom: 0.5em;}#sk-container-id-8 div.sk-estimator:hover {background-color: #d4ebff;}#sk-container-id-8 div.sk-parallel-item::after {content: \"\";width: 100%;border-bottom: 1px solid gray;flex-grow: 1;}#sk-container-id-8 div.sk-label:hover label.sk-toggleable__label {background-color: #d4ebff;}#sk-container-id-8 div.sk-serial::before {content: \"\";position: absolute;border-left: 1px solid gray;box-sizing: border-box;top: 0;bottom: 0;left: 50%;z-index: 0;}#sk-container-id-8 div.sk-serial {display: flex;flex-direction: column;align-items: center;background-color: white;padding-right: 0.2em;padding-left: 0.2em;position: relative;}#sk-container-id-8 div.sk-item {position: relative;z-index: 1;}#sk-container-id-8 div.sk-parallel {display: flex;align-items: stretch;justify-content: center;background-color: white;position: relative;}#sk-container-id-8 div.sk-item::before, #sk-container-id-8 div.sk-parallel-item::before {content: \"\";position: absolute;border-left: 1px solid gray;box-sizing: border-box;top: 0;bottom: 0;left: 50%;z-index: -1;}#sk-container-id-8 div.sk-parallel-item {display: flex;flex-direction: column;z-index: 1;position: relative;background-color: white;}#sk-container-id-8 div.sk-parallel-item:first-child::after {align-self: flex-end;width: 50%;}#sk-container-id-8 div.sk-parallel-item:last-child::after {align-self: flex-start;width: 50%;}#sk-container-id-8 div.sk-parallel-item:only-child::after {width: 0;}#sk-container-id-8 div.sk-dashed-wrapped {border: 1px dashed gray;margin: 0 0.4em 0.5em 0.4em;box-sizing: border-box;padding-bottom: 0.4em;background-color: white;}#sk-container-id-8 div.sk-label label {font-family: monospace;font-weight: bold;display: inline-block;line-height: 1.2em;}#sk-container-id-8 div.sk-label-container {text-align: center;}#sk-container-id-8 div.sk-container {/* jupyter's `normalize.less` sets `[hidden] { display: none; }` but bootstrap.min.css set `[hidden] { display: none !important; }` so we also need the `!important` here to be able to override the default hidden behavior on the sphinx rendered scikit-learn.org. See: https://github.com/scikit-learn/scikit-learn/issues/21755 */display: inline-block !important;position: relative;}#sk-container-id-8 div.sk-text-repr-fallback {display: none;}</style><div id=\"sk-container-id-8\" class=\"sk-top-container\"><div class=\"sk-text-repr-fallback\"><pre>Pipeline(steps=[(&#x27;preprocessing&#x27;,\n",
       "                 ColumnTransformer(transformers=[(&#x27;num&#x27;,\n",
       "                                                  Pipeline(steps=[(&#x27;imputer&#x27;,\n",
       "                                                                   IterativeImputer()),\n",
       "                                                                  (&#x27;scaler&#x27;,\n",
       "                                                                   StandardScaler())]),\n",
       "                                                  [&#x27;HomePage&#x27;,\n",
       "                                                   &#x27;HomePage_Duration&#x27;,\n",
       "                                                   &#x27;LandingPage_Duration&#x27;,\n",
       "                                                   &#x27;ProductDescriptionPage&#x27;,\n",
       "                                                   &#x27;ProductDescriptionPage_Duration&#x27;,\n",
       "                                                   &#x27;GoogleMetric:Bounce Rates&#x27;,\n",
       "                                                   &#x27;GoogleMetric:Page Values&#x27;,\n",
       "                                                   &#x27;SeasonalPurchase&#x27;, &#x27;OS&#x27;,\n",
       "                                                   &#x27;SearchEng...\n",
       "                                                 GradientBoostingClassifier(learning_rate=0.015,\n",
       "                                                                            min_samples_split=4,\n",
       "                                                                            n_estimators=200,\n",
       "                                                                            n_iter_no_change=5,\n",
       "                                                                            warm_start=True)),\n",
       "                                                (&#x27;logit&#x27;,\n",
       "                                                 LogisticRegression(C=0.1,\n",
       "                                                                    max_iter=2000,\n",
       "                                                                    multi_class=&#x27;multinomial&#x27;,\n",
       "                                                                    solver=&#x27;saga&#x27;)),\n",
       "                                                (&#x27;nb&#x27;, BernoulliNB()),\n",
       "                                                (&#x27;nc&#x27;, NearestCentroid())],\n",
       "                                    final_estimator=AdaBoostClassifier(estimator=DecisionTreeClassifier(max_depth=2),\n",
       "                                                                       learning_rate=0.05),\n",
       "                                    n_jobs=-1, passthrough=True))])</pre><b>In a Jupyter environment, please rerun this cell to show the HTML representation or trust the notebook. <br />On GitHub, the HTML representation is unable to render, please try loading this page with nbviewer.org.</b></div><div class=\"sk-container\" hidden><div class=\"sk-item sk-dashed-wrapped\"><div class=\"sk-label-container\"><div class=\"sk-label sk-toggleable\"><input class=\"sk-toggleable__control sk-hidden--visually\" id=\"sk-estimator-id-80\" type=\"checkbox\" ><label for=\"sk-estimator-id-80\" class=\"sk-toggleable__label sk-toggleable__label-arrow\">Pipeline</label><div class=\"sk-toggleable__content\"><pre>Pipeline(steps=[(&#x27;preprocessing&#x27;,\n",
       "                 ColumnTransformer(transformers=[(&#x27;num&#x27;,\n",
       "                                                  Pipeline(steps=[(&#x27;imputer&#x27;,\n",
       "                                                                   IterativeImputer()),\n",
       "                                                                  (&#x27;scaler&#x27;,\n",
       "                                                                   StandardScaler())]),\n",
       "                                                  [&#x27;HomePage&#x27;,\n",
       "                                                   &#x27;HomePage_Duration&#x27;,\n",
       "                                                   &#x27;LandingPage_Duration&#x27;,\n",
       "                                                   &#x27;ProductDescriptionPage&#x27;,\n",
       "                                                   &#x27;ProductDescriptionPage_Duration&#x27;,\n",
       "                                                   &#x27;GoogleMetric:Bounce Rates&#x27;,\n",
       "                                                   &#x27;GoogleMetric:Page Values&#x27;,\n",
       "                                                   &#x27;SeasonalPurchase&#x27;, &#x27;OS&#x27;,\n",
       "                                                   &#x27;SearchEng...\n",
       "                                                 GradientBoostingClassifier(learning_rate=0.015,\n",
       "                                                                            min_samples_split=4,\n",
       "                                                                            n_estimators=200,\n",
       "                                                                            n_iter_no_change=5,\n",
       "                                                                            warm_start=True)),\n",
       "                                                (&#x27;logit&#x27;,\n",
       "                                                 LogisticRegression(C=0.1,\n",
       "                                                                    max_iter=2000,\n",
       "                                                                    multi_class=&#x27;multinomial&#x27;,\n",
       "                                                                    solver=&#x27;saga&#x27;)),\n",
       "                                                (&#x27;nb&#x27;, BernoulliNB()),\n",
       "                                                (&#x27;nc&#x27;, NearestCentroid())],\n",
       "                                    final_estimator=AdaBoostClassifier(estimator=DecisionTreeClassifier(max_depth=2),\n",
       "                                                                       learning_rate=0.05),\n",
       "                                    n_jobs=-1, passthrough=True))])</pre></div></div></div><div class=\"sk-serial\"><div class=\"sk-item sk-dashed-wrapped\"><div class=\"sk-label-container\"><div class=\"sk-label sk-toggleable\"><input class=\"sk-toggleable__control sk-hidden--visually\" id=\"sk-estimator-id-81\" type=\"checkbox\" ><label for=\"sk-estimator-id-81\" class=\"sk-toggleable__label sk-toggleable__label-arrow\">preprocessing: ColumnTransformer</label><div class=\"sk-toggleable__content\"><pre>ColumnTransformer(transformers=[(&#x27;num&#x27;,\n",
       "                                 Pipeline(steps=[(&#x27;imputer&#x27;,\n",
       "                                                  IterativeImputer()),\n",
       "                                                 (&#x27;scaler&#x27;, StandardScaler())]),\n",
       "                                 [&#x27;HomePage&#x27;, &#x27;HomePage_Duration&#x27;,\n",
       "                                  &#x27;LandingPage_Duration&#x27;,\n",
       "                                  &#x27;ProductDescriptionPage&#x27;,\n",
       "                                  &#x27;ProductDescriptionPage_Duration&#x27;,\n",
       "                                  &#x27;GoogleMetric:Bounce Rates&#x27;,\n",
       "                                  &#x27;GoogleMetric:Page Values&#x27;,\n",
       "                                  &#x27;SeasonalPurchase&#x27;, &#x27;OS&#x27;, &#x27;SearchEngine&#x27;,\n",
       "                                  &#x27;Zone&#x27;, &#x27;Type of Traffic&#x27;,\n",
       "                                  &#x27;WeekendPurchase&#x27;]),\n",
       "                                (&#x27;cat&#x27;,\n",
       "                                 Pipeline(steps=[(&#x27;encoder&#x27;, OneHotEncoder())]),\n",
       "                                 [&#x27;Month_SeasonalPurchase&#x27;, &#x27;CustomerType&#x27;,\n",
       "                                  &#x27;Gender&#x27;, &#x27;Cookies Setting&#x27;, &#x27;Education&#x27;,\n",
       "                                  &#x27;Marital Status&#x27;])])</pre></div></div></div><div class=\"sk-parallel\"><div class=\"sk-parallel-item\"><div class=\"sk-item\"><div class=\"sk-label-container\"><div class=\"sk-label sk-toggleable\"><input class=\"sk-toggleable__control sk-hidden--visually\" id=\"sk-estimator-id-82\" type=\"checkbox\" ><label for=\"sk-estimator-id-82\" class=\"sk-toggleable__label sk-toggleable__label-arrow\">num</label><div class=\"sk-toggleable__content\"><pre>[&#x27;HomePage&#x27;, &#x27;HomePage_Duration&#x27;, &#x27;LandingPage_Duration&#x27;, &#x27;ProductDescriptionPage&#x27;, &#x27;ProductDescriptionPage_Duration&#x27;, &#x27;GoogleMetric:Bounce Rates&#x27;, &#x27;GoogleMetric:Page Values&#x27;, &#x27;SeasonalPurchase&#x27;, &#x27;OS&#x27;, &#x27;SearchEngine&#x27;, &#x27;Zone&#x27;, &#x27;Type of Traffic&#x27;, &#x27;WeekendPurchase&#x27;]</pre></div></div></div><div class=\"sk-serial\"><div class=\"sk-item\"><div class=\"sk-serial\"><div class=\"sk-item\"><div class=\"sk-estimator sk-toggleable\"><input class=\"sk-toggleable__control sk-hidden--visually\" id=\"sk-estimator-id-83\" type=\"checkbox\" ><label for=\"sk-estimator-id-83\" class=\"sk-toggleable__label sk-toggleable__label-arrow\">IterativeImputer</label><div class=\"sk-toggleable__content\"><pre>IterativeImputer()</pre></div></div></div><div class=\"sk-item\"><div class=\"sk-estimator sk-toggleable\"><input class=\"sk-toggleable__control sk-hidden--visually\" id=\"sk-estimator-id-84\" type=\"checkbox\" ><label for=\"sk-estimator-id-84\" class=\"sk-toggleable__label sk-toggleable__label-arrow\">StandardScaler</label><div class=\"sk-toggleable__content\"><pre>StandardScaler()</pre></div></div></div></div></div></div></div></div><div class=\"sk-parallel-item\"><div class=\"sk-item\"><div class=\"sk-label-container\"><div class=\"sk-label sk-toggleable\"><input class=\"sk-toggleable__control sk-hidden--visually\" id=\"sk-estimator-id-85\" type=\"checkbox\" ><label for=\"sk-estimator-id-85\" class=\"sk-toggleable__label sk-toggleable__label-arrow\">cat</label><div class=\"sk-toggleable__content\"><pre>[&#x27;Month_SeasonalPurchase&#x27;, &#x27;CustomerType&#x27;, &#x27;Gender&#x27;, &#x27;Cookies Setting&#x27;, &#x27;Education&#x27;, &#x27;Marital Status&#x27;]</pre></div></div></div><div class=\"sk-serial\"><div class=\"sk-item\"><div class=\"sk-serial\"><div class=\"sk-item\"><div class=\"sk-estimator sk-toggleable\"><input class=\"sk-toggleable__control sk-hidden--visually\" id=\"sk-estimator-id-86\" type=\"checkbox\" ><label for=\"sk-estimator-id-86\" class=\"sk-toggleable__label sk-toggleable__label-arrow\">OneHotEncoder</label><div class=\"sk-toggleable__content\"><pre>OneHotEncoder()</pre></div></div></div></div></div></div></div></div></div></div><div class=\"sk-item\"><div class=\"sk-label-container\"><div class=\"sk-label sk-toggleable\"><input class=\"sk-toggleable__control sk-hidden--visually\" id=\"sk-estimator-id-87\" type=\"checkbox\" ><label for=\"sk-estimator-id-87\" class=\"sk-toggleable__label sk-toggleable__label-arrow\">stacking: StackingClassifier</label><div class=\"sk-toggleable__content\"><pre>StackingClassifier(cv=StratifiedKFold(n_splits=5,\n",
       "        random_state=RandomState(MT19937) at 0x2AA10E99240, shuffle=True),\n",
       "                   estimators=[(&#x27;rf&#x27;,\n",
       "                                RandomForestClassifier(max_features=&#x27;log2&#x27;,\n",
       "                                                       n_estimators=500,\n",
       "                                                       random_state=42)),\n",
       "                               (&#x27;gb&#x27;,\n",
       "                                GradientBoostingClassifier(learning_rate=0.015,\n",
       "                                                           min_samples_split=4,\n",
       "                                                           n_estimators=200,\n",
       "                                                           n_iter_no_change=5,\n",
       "                                                           warm_start=True)),\n",
       "                               (&#x27;logit&#x27;,\n",
       "                                LogisticRegression(C=0.1, max_iter=2000,\n",
       "                                                   multi_class=&#x27;multinomial&#x27;,\n",
       "                                                   solver=&#x27;saga&#x27;)),\n",
       "                               (&#x27;nb&#x27;, BernoulliNB()),\n",
       "                               (&#x27;nc&#x27;, NearestCentroid())],\n",
       "                   final_estimator=AdaBoostClassifier(estimator=DecisionTreeClassifier(max_depth=2),\n",
       "                                                      learning_rate=0.05),\n",
       "                   n_jobs=-1, passthrough=True)</pre></div></div></div><div class=\"sk-serial\"><div class=\"sk-item\"><div class=\"sk-parallel\"><div class=\"sk-parallel-item\"><div class=\"sk-item\"><div class=\"sk-label-container\"><div class=\"sk-label sk-toggleable\"><label>rf</label></div></div><div class=\"sk-serial\"><div class=\"sk-item\"><div class=\"sk-estimator sk-toggleable\"><input class=\"sk-toggleable__control sk-hidden--visually\" id=\"sk-estimator-id-88\" type=\"checkbox\" ><label for=\"sk-estimator-id-88\" class=\"sk-toggleable__label sk-toggleable__label-arrow\">RandomForestClassifier</label><div class=\"sk-toggleable__content\"><pre>RandomForestClassifier(max_features=&#x27;log2&#x27;, n_estimators=500, random_state=42)</pre></div></div></div></div></div></div><div class=\"sk-parallel-item\"><div class=\"sk-item\"><div class=\"sk-label-container\"><div class=\"sk-label sk-toggleable\"><label>gb</label></div></div><div class=\"sk-serial\"><div class=\"sk-item\"><div class=\"sk-estimator sk-toggleable\"><input class=\"sk-toggleable__control sk-hidden--visually\" id=\"sk-estimator-id-89\" type=\"checkbox\" ><label for=\"sk-estimator-id-89\" class=\"sk-toggleable__label sk-toggleable__label-arrow\">GradientBoostingClassifier</label><div class=\"sk-toggleable__content\"><pre>GradientBoostingClassifier(learning_rate=0.015, min_samples_split=4,\n",
       "                           n_estimators=200, n_iter_no_change=5,\n",
       "                           warm_start=True)</pre></div></div></div></div></div></div><div class=\"sk-parallel-item\"><div class=\"sk-item\"><div class=\"sk-label-container\"><div class=\"sk-label sk-toggleable\"><label>logit</label></div></div><div class=\"sk-serial\"><div class=\"sk-item\"><div class=\"sk-estimator sk-toggleable\"><input class=\"sk-toggleable__control sk-hidden--visually\" id=\"sk-estimator-id-90\" type=\"checkbox\" ><label for=\"sk-estimator-id-90\" class=\"sk-toggleable__label sk-toggleable__label-arrow\">LogisticRegression</label><div class=\"sk-toggleable__content\"><pre>LogisticRegression(C=0.1, max_iter=2000, multi_class=&#x27;multinomial&#x27;,\n",
       "                   solver=&#x27;saga&#x27;)</pre></div></div></div></div></div></div><div class=\"sk-parallel-item\"><div class=\"sk-item\"><div class=\"sk-label-container\"><div class=\"sk-label sk-toggleable\"><label>nb</label></div></div><div class=\"sk-serial\"><div class=\"sk-item\"><div class=\"sk-estimator sk-toggleable\"><input class=\"sk-toggleable__control sk-hidden--visually\" id=\"sk-estimator-id-91\" type=\"checkbox\" ><label for=\"sk-estimator-id-91\" class=\"sk-toggleable__label sk-toggleable__label-arrow\">BernoulliNB</label><div class=\"sk-toggleable__content\"><pre>BernoulliNB()</pre></div></div></div></div></div></div><div class=\"sk-parallel-item\"><div class=\"sk-item\"><div class=\"sk-label-container\"><div class=\"sk-label sk-toggleable\"><label>nc</label></div></div><div class=\"sk-serial\"><div class=\"sk-item\"><div class=\"sk-estimator sk-toggleable\"><input class=\"sk-toggleable__control sk-hidden--visually\" id=\"sk-estimator-id-92\" type=\"checkbox\" ><label for=\"sk-estimator-id-92\" class=\"sk-toggleable__label sk-toggleable__label-arrow\">NearestCentroid</label><div class=\"sk-toggleable__content\"><pre>NearestCentroid()</pre></div></div></div></div></div></div></div></div><div class=\"sk-item\"><div class=\"sk-parallel\"><div class=\"sk-parallel-item\"><div class=\"sk-item\"><div class=\"sk-label-container\"><div class=\"sk-label sk-toggleable\"><label>final_estimator</label></div></div><div class=\"sk-serial\"><div class=\"sk-item sk-dashed-wrapped\"><div class=\"sk-parallel\"><div class=\"sk-parallel-item\"><div class=\"sk-item\"><div class=\"sk-label-container\"><div class=\"sk-label sk-toggleable\"><input class=\"sk-toggleable__control sk-hidden--visually\" id=\"sk-estimator-id-93\" type=\"checkbox\" ><label for=\"sk-estimator-id-93\" class=\"sk-toggleable__label sk-toggleable__label-arrow\">estimator: DecisionTreeClassifier</label><div class=\"sk-toggleable__content\"><pre>DecisionTreeClassifier(max_depth=2)</pre></div></div></div><div class=\"sk-serial\"><div class=\"sk-item\"><div class=\"sk-estimator sk-toggleable\"><input class=\"sk-toggleable__control sk-hidden--visually\" id=\"sk-estimator-id-94\" type=\"checkbox\" ><label for=\"sk-estimator-id-94\" class=\"sk-toggleable__label sk-toggleable__label-arrow\">DecisionTreeClassifier</label><div class=\"sk-toggleable__content\"><pre>DecisionTreeClassifier(max_depth=2)</pre></div></div></div></div></div></div></div></div></div></div></div></div></div></div></div></div></div></div></div>"
      ],
      "text/plain": [
       "Pipeline(steps=[('preprocessing',\n",
       "                 ColumnTransformer(transformers=[('num',\n",
       "                                                  Pipeline(steps=[('imputer',\n",
       "                                                                   IterativeImputer()),\n",
       "                                                                  ('scaler',\n",
       "                                                                   StandardScaler())]),\n",
       "                                                  ['HomePage',\n",
       "                                                   'HomePage_Duration',\n",
       "                                                   'LandingPage_Duration',\n",
       "                                                   'ProductDescriptionPage',\n",
       "                                                   'ProductDescriptionPage_Duration',\n",
       "                                                   'GoogleMetric:Bounce Rates',\n",
       "                                                   'GoogleMetric:Page Values',\n",
       "                                                   'SeasonalPurchase', 'OS',\n",
       "                                                   'SearchEng...\n",
       "                                                 GradientBoostingClassifier(learning_rate=0.015,\n",
       "                                                                            min_samples_split=4,\n",
       "                                                                            n_estimators=200,\n",
       "                                                                            n_iter_no_change=5,\n",
       "                                                                            warm_start=True)),\n",
       "                                                ('logit',\n",
       "                                                 LogisticRegression(C=0.1,\n",
       "                                                                    max_iter=2000,\n",
       "                                                                    multi_class='multinomial',\n",
       "                                                                    solver='saga')),\n",
       "                                                ('nb', BernoulliNB()),\n",
       "                                                ('nc', NearestCentroid())],\n",
       "                                    final_estimator=AdaBoostClassifier(estimator=DecisionTreeClassifier(max_depth=2),\n",
       "                                                                       learning_rate=0.05),\n",
       "                                    n_jobs=-1, passthrough=True))])"
      ]
     },
     "execution_count": 70,
     "metadata": {},
     "output_type": "execute_result"
    }
   ],
   "source": [
    "clf2.fit(X_train, y_train)"
   ]
  },
  {
   "cell_type": "code",
   "execution_count": 71,
   "id": "7ac50bb6-71c1-4c45-8516-2dfb1ffe7673",
   "metadata": {},
   "outputs": [
    {
     "data": {
      "text/plain": [
       "0.7641669494401085"
      ]
     },
     "execution_count": 71,
     "metadata": {},
     "output_type": "execute_result"
    }
   ],
   "source": [
    "clf2.score(X_val, y_val)"
   ]
  },
  {
   "cell_type": "code",
   "execution_count": 72,
   "id": "4137dd43-0d8f-40fd-b2a8-8655bd169c27",
   "metadata": {},
   "outputs": [],
   "source": [
    "y_val_hat_predict_2 = clf2.predict(X_val)"
   ]
  },
  {
   "cell_type": "code",
   "execution_count": 73,
   "id": "eafb7ead-8084-4450-bca1-cf755cd25199",
   "metadata": {},
   "outputs": [
    {
     "name": "stdout",
     "output_type": "stream",
     "text": [
      "              precision    recall  f1-score   support\n",
      "\n",
      "           0       0.77      0.88      0.82      1775\n",
      "           1       0.76      0.59      0.67      1172\n",
      "\n",
      "    accuracy                           0.76      2947\n",
      "   macro avg       0.76      0.74      0.74      2947\n",
      "weighted avg       0.76      0.76      0.76      2947\n",
      "\n"
     ]
    }
   ],
   "source": [
    "print(classification_report(y_val, y_val_hat_predict_2, zero_division=0))"
   ]
  },
  {
   "cell_type": "code",
   "execution_count": 74,
   "id": "3fa62895-9afe-4b9b-8262-7a17f86c92fd",
   "metadata": {},
   "outputs": [
    {
     "data": {
      "image/png": "[encoded data removed]",
      "text/plain": [
       "<Figure size 640x480 with 2 Axes>"
      ]
     },
     "metadata": {},
     "output_type": "display_data"
    }
   ],
   "source": [
    "fig = ConfusionMatrixDisplay.from_predictions(y_val, y_val_hat_predict_2)\n",
    "plt.show()"
   ]
  },
  {
   "cell_type": "markdown",
   "id": "4cc98a08-1286-47e9-ad21-fa8840817208",
   "metadata": {},
   "source": [
    "# Aggregating both clf1 and clf2"
   ]
  },
  {
   "cell_type": "code",
   "execution_count": 187,
   "id": "96773ab5-1394-4d44-8381-f250dd62bcae",
   "metadata": {},
   "outputs": [],
   "source": [
    "predict_proba_1 = clf1.predict_proba(X_val_pre)\n",
    "predict_proba_2 = clf2.predict_proba(X_val)"
   ]
  },
  {
   "cell_type": "code",
   "execution_count": 204,
   "id": "84ff9c73-107c-47d9-9a96-949dff8bded5",
   "metadata": {},
   "outputs": [],
   "source": [
    "weighted_proba_test = (predict_proba_1 + 22 * predict_proba_2) / 23"
   ]
  },
  {
   "cell_type": "code",
   "execution_count": 205,
   "id": "1ab2f10f-aaaa-4a1e-bf60-0a4472dcfa94",
   "metadata": {},
   "outputs": [
    {
     "data": {
      "text/plain": [
       "array([[0.57149612, 0.42850388],\n",
       "       [0.30014391, 0.69985609],\n",
       "       [0.46691292, 0.53308708],\n",
       "       ...,\n",
       "       [0.7275884 , 0.2724116 ],\n",
       "       [0.59606817, 0.40393183],\n",
       "       [0.33901607, 0.66098393]])"
      ]
     },
     "execution_count": 205,
     "metadata": {},
     "output_type": "execute_result"
    }
   ],
   "source": [
    "weighted_proba_test"
   ]
  },
  {
   "cell_type": "code",
   "execution_count": 206,
   "id": "a530164e-1deb-4851-9149-5abb11bfa16e",
   "metadata": {},
   "outputs": [],
   "source": [
    "y_pred = np.argmax(weighted_proba_test, axis=1)"
   ]
  },
  {
   "cell_type": "code",
   "execution_count": 207,
   "id": "df24bfc8-421f-403a-8e49-2b8578494a2a",
   "metadata": {},
   "outputs": [
    {
     "name": "stdout",
     "output_type": "stream",
     "text": [
      "              precision    recall  f1-score   support\n",
      "\n",
      "           0     0.7771    0.8563    0.8148      1775\n",
      "           1     0.7427    0.6280    0.6805      1172\n",
      "\n",
      "    accuracy                         0.7655      2947\n",
      "   macro avg     0.7599    0.7422    0.7477      2947\n",
      "weighted avg     0.7634    0.7655    0.7614      2947\n",
      "\n"
     ]
    }
   ],
   "source": [
    "print(classification_report(y_val, y_pred, digits=4))"
   ]
  },
  {
   "cell_type": "code",
   "execution_count": 208,
   "id": "6853307e-fc04-44dd-8a81-05bfc7f96d62",
   "metadata": {},
   "outputs": [
    {
     "data": {
      "image/png": "[encoded data removed]",
      "text/plain": [
       "<Figure size 640x480 with 2 Axes>"
      ]
     },
     "metadata": {},
     "output_type": "display_data"
    }
   ],
   "source": [
    "fig = ConfusionMatrixDisplay.from_predictions(y_val, y_pred)\n",
    "plt.show()"
   ]
  },
  {
   "cell_type": "code",
   "execution_count": 183,
   "id": "c55e6d0b-8b28-483e-aa1b-81623b303752",
   "metadata": {},
   "outputs": [],
   "source": [
    "final_clf = AdaBoostClassifier(\n",
    "    estimator=DecisionTreeClassifier(max_depth=2),\n",
    "    learning_rate=0.05,\n",
    ")"
   ]
  },
  {
   "cell_type": "code",
   "execution_count": 170,
   "id": "b3c36bac-1c61-42a3-972b-244d314d557c",
   "metadata": {},
   "outputs": [],
   "source": [
    "predict_proba_1_train = clf1.predict_proba(X_train_pre)\n",
    "predict_proba_2_train = clf2.predict_proba(X_train)"
   ]
  },
  {
   "cell_type": "code",
   "execution_count": 174,
   "id": "5150a176-01d7-4165-ab9b-f2f1f2df099d",
   "metadata": {},
   "outputs": [],
   "source": [
    "data_proba_train = np.concatenate((predict_proba_1_train, predict_proba_2_train), axis = 1)"
   ]
  },
  {
   "cell_type": "code",
   "execution_count": 175,
   "id": "a7e7ff0c-b98f-40e2-92e3-c358d7a9b4de",
   "metadata": {},
   "outputs": [
    {
     "data": {
      "text/plain": [
       "array([[0.5711163 , 0.4288837 , 0.59377109, 0.40622891],\n",
       "       [0.57021121, 0.42978879, 0.59377109, 0.40622891],\n",
       "       [0.48142052, 0.51857948, 0.44484412, 0.55515588],\n",
       "       ...,\n",
       "       [0.59747272, 0.40252728, 0.59377109, 0.40622891],\n",
       "       [0.57021121, 0.42978879, 0.59199777, 0.40800223],\n",
       "       [0.38465745, 0.61534255, 0.44484412, 0.55515588]])"
      ]
     },
     "execution_count": 175,
     "metadata": {},
     "output_type": "execute_result"
    }
   ],
   "source": [
    "data_proba_train"
   ]
  },
  {
   "cell_type": "code",
   "execution_count": 177,
   "id": "70efc7c2-7e89-4624-8671-08299a4496a1",
   "metadata": {},
   "outputs": [],
   "source": [
    "data_proba_test = np.concatenate((predict_proba_1, predict_proba_2), axis = 1)"
   ]
  },
  {
   "cell_type": "code",
   "execution_count": 178,
   "id": "abc6b87c-1fb8-4d51-b84d-2bda9cb4b180",
   "metadata": {},
   "outputs": [
    {
     "data": {
      "text/plain": [
       "array([[0.10932535, 0.89067465, 0.59250388, 0.40749612],\n",
       "       [0.10121957, 0.89878043, 0.30918593, 0.69081407],\n",
       "       [0.35582374, 0.64417626, 0.47196243, 0.52803757],\n",
       "       ...,\n",
       "       [0.11181218, 0.88818782, 0.75557823, 0.24442177],\n",
       "       [0.10121957, 0.89878043, 0.61856129, 0.38143871],\n",
       "       [0.20536819, 0.79463181, 0.34509098, 0.65490902]])"
      ]
     },
     "execution_count": 178,
     "metadata": {},
     "output_type": "execute_result"
    }
   ],
   "source": [
    "data_proba_test"
   ]
  },
  {
   "cell_type": "code",
   "execution_count": 181,
   "id": "95220862-d8dd-41dd-b6ae-9401fe3255e8",
   "metadata": {},
   "outputs": [
    {
     "data": {
      "text/html": [
       "<style>#sk-container-id-11 {color: black;background-color: white;}#sk-container-id-11 pre{padding: 0;}#sk-container-id-11 div.sk-toggleable {background-color: white;}#sk-container-id-11 label.sk-toggleable__label {cursor: pointer;display: block;width: 100%;margin-bottom: 0;padding: 0.3em;box-sizing: border-box;text-align: center;}#sk-container-id-11 label.sk-toggleable__label-arrow:before {content: \"▸\";float: left;margin-right: 0.25em;color: #696969;}#sk-container-id-11 label.sk-toggleable__label-arrow:hover:before {color: black;}#sk-container-id-11 div.sk-estimator:hover label.sk-toggleable__label-arrow:before {color: black;}#sk-container-id-11 div.sk-toggleable__content {max-height: 0;max-width: 0;overflow: hidden;text-align: left;background-color: #f0f8ff;}#sk-container-id-11 div.sk-toggleable__content pre {margin: 0.2em;color: black;border-radius: 0.25em;background-color: #f0f8ff;}#sk-container-id-11 input.sk-toggleable__control:checked~div.sk-toggleable__content {max-height: 200px;max-width: 100%;overflow: auto;}#sk-container-id-11 input.sk-toggleable__control:checked~label.sk-toggleable__label-arrow:before {content: \"▾\";}#sk-container-id-11 div.sk-estimator input.sk-toggleable__control:checked~label.sk-toggleable__label {background-color: #d4ebff;}#sk-container-id-11 div.sk-label input.sk-toggleable__control:checked~label.sk-toggleable__label {background-color: #d4ebff;}#sk-container-id-11 input.sk-hidden--visually {border: 0;clip: rect(1px 1px 1px 1px);clip: rect(1px, 1px, 1px, 1px);height: 1px;margin: -1px;overflow: hidden;padding: 0;position: absolute;width: 1px;}#sk-container-id-11 div.sk-estimator {font-family: monospace;background-color: #f0f8ff;border: 1px dotted black;border-radius: 0.25em;box-sizing: border-box;margin-bottom: 0.5em;}#sk-container-id-11 div.sk-estimator:hover {background-color: #d4ebff;}#sk-container-id-11 div.sk-parallel-item::after {content: \"\";width: 100%;border-bottom: 1px solid gray;flex-grow: 1;}#sk-container-id-11 div.sk-label:hover label.sk-toggleable__label {background-color: #d4ebff;}#sk-container-id-11 div.sk-serial::before {content: \"\";position: absolute;border-left: 1px solid gray;box-sizing: border-box;top: 0;bottom: 0;left: 50%;z-index: 0;}#sk-container-id-11 div.sk-serial {display: flex;flex-direction: column;align-items: center;background-color: white;padding-right: 0.2em;padding-left: 0.2em;position: relative;}#sk-container-id-11 div.sk-item {position: relative;z-index: 1;}#sk-container-id-11 div.sk-parallel {display: flex;align-items: stretch;justify-content: center;background-color: white;position: relative;}#sk-container-id-11 div.sk-item::before, #sk-container-id-11 div.sk-parallel-item::before {content: \"\";position: absolute;border-left: 1px solid gray;box-sizing: border-box;top: 0;bottom: 0;left: 50%;z-index: -1;}#sk-container-id-11 div.sk-parallel-item {display: flex;flex-direction: column;z-index: 1;position: relative;background-color: white;}#sk-container-id-11 div.sk-parallel-item:first-child::after {align-self: flex-end;width: 50%;}#sk-container-id-11 div.sk-parallel-item:last-child::after {align-self: flex-start;width: 50%;}#sk-container-id-11 div.sk-parallel-item:only-child::after {width: 0;}#sk-container-id-11 div.sk-dashed-wrapped {border: 1px dashed gray;margin: 0 0.4em 0.5em 0.4em;box-sizing: border-box;padding-bottom: 0.4em;background-color: white;}#sk-container-id-11 div.sk-label label {font-family: monospace;font-weight: bold;display: inline-block;line-height: 1.2em;}#sk-container-id-11 div.sk-label-container {text-align: center;}#sk-container-id-11 div.sk-container {/* jupyter's `normalize.less` sets `[hidden] { display: none; }` but bootstrap.min.css set `[hidden] { display: none !important; }` so we also need the `!important` here to be able to override the default hidden behavior on the sphinx rendered scikit-learn.org. See: https://github.com/scikit-learn/scikit-learn/issues/21755 */display: inline-block !important;position: relative;}#sk-container-id-11 div.sk-text-repr-fallback {display: none;}</style><div id=\"sk-container-id-11\" class=\"sk-top-container\"><div class=\"sk-text-repr-fallback\"><pre>AdaBoostClassifier(estimator=DecisionTreeClassifier(max_depth=2),\n",
       "                   learning_rate=0.05)</pre><b>In a Jupyter environment, please rerun this cell to show the HTML representation or trust the notebook. <br />On GitHub, the HTML representation is unable to render, please try loading this page with nbviewer.org.</b></div><div class=\"sk-container\" hidden><div class=\"sk-item sk-dashed-wrapped\"><div class=\"sk-label-container\"><div class=\"sk-label sk-toggleable\"><input class=\"sk-toggleable__control sk-hidden--visually\" id=\"sk-estimator-id-101\" type=\"checkbox\" ><label for=\"sk-estimator-id-101\" class=\"sk-toggleable__label sk-toggleable__label-arrow\">AdaBoostClassifier</label><div class=\"sk-toggleable__content\"><pre>AdaBoostClassifier(estimator=DecisionTreeClassifier(max_depth=2),\n",
       "                   learning_rate=0.05)</pre></div></div></div><div class=\"sk-parallel\"><div class=\"sk-parallel-item\"><div class=\"sk-item\"><div class=\"sk-label-container\"><div class=\"sk-label sk-toggleable\"><input class=\"sk-toggleable__control sk-hidden--visually\" id=\"sk-estimator-id-102\" type=\"checkbox\" ><label for=\"sk-estimator-id-102\" class=\"sk-toggleable__label sk-toggleable__label-arrow\">estimator: DecisionTreeClassifier</label><div class=\"sk-toggleable__content\"><pre>DecisionTreeClassifier(max_depth=2)</pre></div></div></div><div class=\"sk-serial\"><div class=\"sk-item\"><div class=\"sk-estimator sk-toggleable\"><input class=\"sk-toggleable__control sk-hidden--visually\" id=\"sk-estimator-id-103\" type=\"checkbox\" ><label for=\"sk-estimator-id-103\" class=\"sk-toggleable__label sk-toggleable__label-arrow\">DecisionTreeClassifier</label><div class=\"sk-toggleable__content\"><pre>DecisionTreeClassifier(max_depth=2)</pre></div></div></div></div></div></div></div></div></div></div>"
      ],
      "text/plain": [
       "AdaBoostClassifier(estimator=DecisionTreeClassifier(max_depth=2),\n",
       "                   learning_rate=0.05)"
      ]
     },
     "execution_count": 181,
     "metadata": {},
     "output_type": "execute_result"
    }
   ],
   "source": [
    "final_clf.fit(data_proba_train, y_train)"
   ]
  },
  {
   "cell_type": "code",
   "execution_count": 182,
   "id": "61bcd1cc-1886-49fb-9519-47cde3eb0350",
   "metadata": {},
   "outputs": [
    {
     "data": {
      "text/plain": [
       "0.3837801153715643"
      ]
     },
     "execution_count": 182,
     "metadata": {},
     "output_type": "execute_result"
    }
   ],
   "source": [
    "final_clf.score(data_proba_test, y_val)"
   ]
  },
  {
   "cell_type": "code",
   "execution_count": 185,
   "id": "7cfd8c1e-3e27-434b-a1b4-5f033eadcde6",
   "metadata": {},
   "outputs": [],
   "source": [
    "weighted_proba_train = (predict_proba_1_train + 21 * predict_proba_2_train) / 22"
   ]
  },
  {
   "cell_type": "code",
   "execution_count": 186,
   "id": "9e4716c4-9541-4329-8e18-a2972749a7b8",
   "metadata": {},
   "outputs": [
    {
     "data": {
      "text/html": [
       "<style>#sk-container-id-12 {color: black;background-color: white;}#sk-container-id-12 pre{padding: 0;}#sk-container-id-12 div.sk-toggleable {background-color: white;}#sk-container-id-12 label.sk-toggleable__label {cursor: pointer;display: block;width: 100%;margin-bottom: 0;padding: 0.3em;box-sizing: border-box;text-align: center;}#sk-container-id-12 label.sk-toggleable__label-arrow:before {content: \"▸\";float: left;margin-right: 0.25em;color: #696969;}#sk-container-id-12 label.sk-toggleable__label-arrow:hover:before {color: black;}#sk-container-id-12 div.sk-estimator:hover label.sk-toggleable__label-arrow:before {color: black;}#sk-container-id-12 div.sk-toggleable__content {max-height: 0;max-width: 0;overflow: hidden;text-align: left;background-color: #f0f8ff;}#sk-container-id-12 div.sk-toggleable__content pre {margin: 0.2em;color: black;border-radius: 0.25em;background-color: #f0f8ff;}#sk-container-id-12 input.sk-toggleable__control:checked~div.sk-toggleable__content {max-height: 200px;max-width: 100%;overflow: auto;}#sk-container-id-12 input.sk-toggleable__control:checked~label.sk-toggleable__label-arrow:before {content: \"▾\";}#sk-container-id-12 div.sk-estimator input.sk-toggleable__control:checked~label.sk-toggleable__label {background-color: #d4ebff;}#sk-container-id-12 div.sk-label input.sk-toggleable__control:checked~label.sk-toggleable__label {background-color: #d4ebff;}#sk-container-id-12 input.sk-hidden--visually {border: 0;clip: rect(1px 1px 1px 1px);clip: rect(1px, 1px, 1px, 1px);height: 1px;margin: -1px;overflow: hidden;padding: 0;position: absolute;width: 1px;}#sk-container-id-12 div.sk-estimator {font-family: monospace;background-color: #f0f8ff;border: 1px dotted black;border-radius: 0.25em;box-sizing: border-box;margin-bottom: 0.5em;}#sk-container-id-12 div.sk-estimator:hover {background-color: #d4ebff;}#sk-container-id-12 div.sk-parallel-item::after {content: \"\";width: 100%;border-bottom: 1px solid gray;flex-grow: 1;}#sk-container-id-12 div.sk-label:hover label.sk-toggleable__label {background-color: #d4ebff;}#sk-container-id-12 div.sk-serial::before {content: \"\";position: absolute;border-left: 1px solid gray;box-sizing: border-box;top: 0;bottom: 0;left: 50%;z-index: 0;}#sk-container-id-12 div.sk-serial {display: flex;flex-direction: column;align-items: center;background-color: white;padding-right: 0.2em;padding-left: 0.2em;position: relative;}#sk-container-id-12 div.sk-item {position: relative;z-index: 1;}#sk-container-id-12 div.sk-parallel {display: flex;align-items: stretch;justify-content: center;background-color: white;position: relative;}#sk-container-id-12 div.sk-item::before, #sk-container-id-12 div.sk-parallel-item::before {content: \"\";position: absolute;border-left: 1px solid gray;box-sizing: border-box;top: 0;bottom: 0;left: 50%;z-index: -1;}#sk-container-id-12 div.sk-parallel-item {display: flex;flex-direction: column;z-index: 1;position: relative;background-color: white;}#sk-container-id-12 div.sk-parallel-item:first-child::after {align-self: flex-end;width: 50%;}#sk-container-id-12 div.sk-parallel-item:last-child::after {align-self: flex-start;width: 50%;}#sk-container-id-12 div.sk-parallel-item:only-child::after {width: 0;}#sk-container-id-12 div.sk-dashed-wrapped {border: 1px dashed gray;margin: 0 0.4em 0.5em 0.4em;box-sizing: border-box;padding-bottom: 0.4em;background-color: white;}#sk-container-id-12 div.sk-label label {font-family: monospace;font-weight: bold;display: inline-block;line-height: 1.2em;}#sk-container-id-12 div.sk-label-container {text-align: center;}#sk-container-id-12 div.sk-container {/* jupyter's `normalize.less` sets `[hidden] { display: none; }` but bootstrap.min.css set `[hidden] { display: none !important; }` so we also need the `!important` here to be able to override the default hidden behavior on the sphinx rendered scikit-learn.org. See: https://github.com/scikit-learn/scikit-learn/issues/21755 */display: inline-block !important;position: relative;}#sk-container-id-12 div.sk-text-repr-fallback {display: none;}</style><div id=\"sk-container-id-12\" class=\"sk-top-container\"><div class=\"sk-text-repr-fallback\"><pre>AdaBoostClassifier(estimator=DecisionTreeClassifier(max_depth=2),\n",
       "                   learning_rate=0.05)</pre><b>In a Jupyter environment, please rerun this cell to show the HTML representation or trust the notebook. <br />On GitHub, the HTML representation is unable to render, please try loading this page with nbviewer.org.</b></div><div class=\"sk-container\" hidden><div class=\"sk-item sk-dashed-wrapped\"><div class=\"sk-label-container\"><div class=\"sk-label sk-toggleable\"><input class=\"sk-toggleable__control sk-hidden--visually\" id=\"sk-estimator-id-104\" type=\"checkbox\" ><label for=\"sk-estimator-id-104\" class=\"sk-toggleable__label sk-toggleable__label-arrow\">AdaBoostClassifier</label><div class=\"sk-toggleable__content\"><pre>AdaBoostClassifier(estimator=DecisionTreeClassifier(max_depth=2),\n",
       "                   learning_rate=0.05)</pre></div></div></div><div class=\"sk-parallel\"><div class=\"sk-parallel-item\"><div class=\"sk-item\"><div class=\"sk-label-container\"><div class=\"sk-label sk-toggleable\"><input class=\"sk-toggleable__control sk-hidden--visually\" id=\"sk-estimator-id-105\" type=\"checkbox\" ><label for=\"sk-estimator-id-105\" class=\"sk-toggleable__label sk-toggleable__label-arrow\">estimator: DecisionTreeClassifier</label><div class=\"sk-toggleable__content\"><pre>DecisionTreeClassifier(max_depth=2)</pre></div></div></div><div class=\"sk-serial\"><div class=\"sk-item\"><div class=\"sk-estimator sk-toggleable\"><input class=\"sk-toggleable__control sk-hidden--visually\" id=\"sk-estimator-id-106\" type=\"checkbox\" ><label for=\"sk-estimator-id-106\" class=\"sk-toggleable__label sk-toggleable__label-arrow\">DecisionTreeClassifier</label><div class=\"sk-toggleable__content\"><pre>DecisionTreeClassifier(max_depth=2)</pre></div></div></div></div></div></div></div></div></div></div>"
      ],
      "text/plain": [
       "AdaBoostClassifier(estimator=DecisionTreeClassifier(max_depth=2),\n",
       "                   learning_rate=0.05)"
      ]
     },
     "execution_count": 186,
     "metadata": {},
     "output_type": "execute_result"
    }
   ],
   "source": [
    "final_clf.fit(weighted_proba_train, y_train)"
   ]
  },
  {
   "cell_type": "code",
   "execution_count": 189,
   "id": "ead9bc35-22b9-4482-bd99-7456d874b2d2",
   "metadata": {},
   "outputs": [
    {
     "data": {
      "text/plain": [
       "0.49847302341364097"
      ]
     },
     "execution_count": 189,
     "metadata": {},
     "output_type": "execute_result"
    }
   ],
   "source": [
    "final_clf.score(weighted_proba_test, y_val)"
   ]
  },
  {
   "cell_type": "code",
   "execution_count": null,
   "id": "f28b4c87-537a-42e2-8f43-a546095ff65a",
   "metadata": {},
   "outputs": [],
   "source": []
  }
 ],
 "metadata": {
  "kernelspec": {
   "display_name": "Python 3 (ipykernel)",
   "language": "python",
   "name": "python3"
  },
  "language_info": {
   "codemirror_mode": {
    "name": "ipython",
    "version": 3
   },
   "file_extension": ".py",
   "mimetype": "text/x-python",
   "name": "python",
   "nbconvert_exporter": "python",
   "pygments_lexer": "ipython3",
   "version": "3.10.9"
  }
 },
 "nbformat": 4,
 "nbformat_minor": 5
}
